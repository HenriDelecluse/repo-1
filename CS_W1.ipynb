{
  "nbformat": 4,
  "nbformat_minor": 0,
  "metadata": {
    "colab": {
      "provenance": [],
      "toc_visible": true
    },
    "kernelspec": {
      "name": "python3",
      "display_name": "Python 3"
    },
    "language_info": {
      "name": "python"
    }
  },
  "cells": [
    {
      "cell_type": "code",
      "execution_count": null,
      "metadata": {
        "colab": {
          "base_uri": "https://localhost:8080/"
        },
        "id": "VX87b_0c0LDL",
        "outputId": "9bd5c5b7-7fd0-46e8-8df7-d6d2bdeed1b9"
      },
      "outputs": [
        {
          "output_type": "stream",
          "name": "stdout",
          "text": [
            "Henri\n",
            "Number is 55\n"
          ]
        }
      ],
      "source": [
        "print (\"Henri\")\n",
        "print (\"Number is\",55)\n"
      ]
    },
    {
      "cell_type": "code",
      "source": [
        "name = input(\"enter a name: \")\n",
        "city = input(\"enter a city: \")\n",
        "print(\"Hello\",name,\"from\",city)"
      ],
      "metadata": {
        "colab": {
          "base_uri": "https://localhost:8080/"
        },
        "id": "htMeILbJ2sqB",
        "outputId": "a18bc48d-f69f-4e4b-e00d-33181289a851"
      },
      "execution_count": null,
      "outputs": [
        {
          "output_type": "stream",
          "name": "stdout",
          "text": [
            "enter a name: Henri\n",
            "enter a city: London\n",
            "Hello Henri from London\n"
          ]
        }
      ]
    },
    {
      "cell_type": "code",
      "source": [
        "x = 10\n",
        "print(x*3)"
      ],
      "metadata": {
        "colab": {
          "base_uri": "https://localhost:8080/"
        },
        "id": "1phV65pB3Eyi",
        "outputId": "16dfd7f3-b876-4bbb-869e-7bd3bac433e5"
      },
      "execution_count": null,
      "outputs": [
        {
          "output_type": "stream",
          "name": "stdout",
          "text": [
            "30\n"
          ]
        }
      ]
    },
    {
      "cell_type": "markdown",
      "source": [
        "Exercise:\n",
        "As the user to enter their name, tel number and city.\n",
        "\n",
        "Print in the following form:\n",
        "\n",
        "Henri is from London, tel is 999999999"
      ],
      "metadata": {
        "id": "W7s8DD1V3R96"
      }
    },
    {
      "cell_type": "code",
      "source": [
        "name = input(\"enter your name: \")\n",
        "city = input(\"enter your city: \")\n",
        "tel = input(\"enter your tel number\")\n",
        "print(name,\"from\",city, \"tel is\", tel)"
      ],
      "metadata": {
        "colab": {
          "base_uri": "https://localhost:8080/"
        },
        "id": "tyXaFh9V4Dzf",
        "outputId": "3afda786-10f9-4bbe-87b0-aa598e4b5e22"
      },
      "execution_count": null,
      "outputs": [
        {
          "output_type": "stream",
          "name": "stdout",
          "text": [
            "enter your name: Henri\n",
            "enter your city: London\n",
            "enter your tel number99999999\n",
            "Henri from London tel is 99999999\n"
          ]
        }
      ]
    },
    {
      "cell_type": "code",
      "source": [
        "print(\"Henri \"*3)"
      ],
      "metadata": {
        "colab": {
          "base_uri": "https://localhost:8080/"
        },
        "id": "i6pjOV2P4c0E",
        "outputId": "471ec1d7-699c-4bb1-d6e7-e014c40b9f3c"
      },
      "execution_count": null,
      "outputs": [
        {
          "output_type": "stream",
          "name": "stdout",
          "text": [
            "Henri Henri Henri \n"
          ]
        }
      ]
    },
    {
      "cell_type": "code",
      "source": [
        "age = int(input(\"How old are you? \"))\n",
        "print (age*4)"
      ],
      "metadata": {
        "colab": {
          "base_uri": "https://localhost:8080/"
        },
        "id": "bThiZC-m5Q1f",
        "outputId": "a896c9a9-b08a-492d-986a-4383c534266c"
      },
      "execution_count": null,
      "outputs": [
        {
          "output_type": "stream",
          "name": "stdout",
          "text": [
            "How old are you? 20\n",
            "80\n"
          ]
        }
      ]
    },
    {
      "cell_type": "code",
      "source": [
        "number1 = float(input(\"Give me a number \"))\n",
        "number2 = float(input(\"Give me another number \"))\n",
        "\n",
        "print (number1 / number2)\n"
      ],
      "metadata": {
        "colab": {
          "base_uri": "https://localhost:8080/"
        },
        "id": "myewLp1T55zR",
        "outputId": "28ff2903-945d-49af-9f70-c4bef1d78a09"
      },
      "execution_count": null,
      "outputs": [
        {
          "output_type": "stream",
          "name": "stdout",
          "text": [
            "Give me a number 4\n",
            "Give me another number -2\n",
            "-2.0\n"
          ]
        }
      ]
    },
    {
      "cell_type": "code",
      "source": [
        "\n",
        "x = float(input(\"Enter a number \"))\n",
        "y = float(input(\"Enter another number \"))\n",
        "\n",
        "if x>y:\n",
        "  print (\"Max is \",x)\n",
        "else:\n",
        "  print (\"Max is \",y)"
      ],
      "metadata": {
        "colab": {
          "base_uri": "https://localhost:8080/"
        },
        "id": "LFTWY-Yr9FBh",
        "outputId": "89fb8245-c63d-4758-a72d-af5d09eaed38"
      },
      "execution_count": null,
      "outputs": [
        {
          "output_type": "stream",
          "name": "stdout",
          "text": [
            "Enter a number 3\n",
            "Enter another number 3\n",
            "Max is  3.0\n"
          ]
        }
      ]
    },
    {
      "cell_type": "code",
      "source": [
        "x = int(input(\"enter a number: \"))\n",
        "\n",
        "if x>0:\n",
        "  print(\"Positive\")\n",
        "elif x==0:\n",
        "  print(\"Zero\")\n",
        "else:\n",
        "  print(\"Negative\")"
      ],
      "metadata": {
        "colab": {
          "base_uri": "https://localhost:8080/"
        },
        "id": "72eIBraIGmoe",
        "outputId": "139ed245-b30a-4695-ce8e-179e308067a7"
      },
      "execution_count": null,
      "outputs": [
        {
          "output_type": "stream",
          "name": "stdout",
          "text": [
            "enter a number: 3\n",
            "Positive\n"
          ]
        }
      ]
    },
    {
      "cell_type": "code",
      "source": [
        "x = float(input(\"enter your university score: \"))\n",
        "\n",
        "if x>=0 and x<10:\n",
        "  print(\"You fail\")\n",
        "elif x >= 10 and x < 15:\n",
        "  print(\"You pass\")\n",
        "elif x >= 15 and x <= 20:\n",
        "  print(\"Distinction\")\n",
        "else:\n",
        "  print(\"Error\")"
      ],
      "metadata": {
        "colab": {
          "base_uri": "https://localhost:8080/"
        },
        "id": "TpR6vzqjG4JI",
        "outputId": "902a4675-4e6f-49d1-96db-61fba7aaec2b"
      },
      "execution_count": null,
      "outputs": [
        {
          "output_type": "stream",
          "name": "stdout",
          "text": [
            "enter your university score: 19.5\n",
            "Distinction\n"
          ]
        }
      ]
    },
    {
      "cell_type": "code",
      "source": [],
      "metadata": {
        "id": "E70I1rrsH_hM"
      },
      "execution_count": null,
      "outputs": []
    }
  ]
}